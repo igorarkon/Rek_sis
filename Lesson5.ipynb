{
 "cells": [
  {
   "cell_type": "markdown",
   "metadata": {},
   "source": [
    "1) Прочитать статьи про BPR, WARP loss\n",
    "\n",
    "2) Сделать грид серч текущей модели"
   ]
  },
  {
   "cell_type": "code",
   "execution_count": null,
   "metadata": {},
   "outputs": [],
   "source": [
    "%%time\n",
    "\n",
    "losses = ['bpr','warp']\n",
    "components_nums = [20, 40]\n",
    "learning_rates= [0.1, 0.05, 0.01]\n",
    "best_precision = 0\n",
    "best_loss = ''\n",
    "best_comp_num = 0\n",
    "best_learning_rate = 0\n",
    "\n",
    "for loss in losses:\n",
    "    for no_components in components_nums:\n",
    "        for learning_rate in learning_rates:\n",
    "            \n",
    "            model = LightFM(no_components=no_components,\n",
    "                loss=loss,\n",
    "                learning_rate=learning_rate, \n",
    "                item_alpha=0.1,\n",
    "                user_alpha=0.1, \n",
    "                random_state=42)\n",
    "            \n",
    "            model.fit((sparse_user_item > 0) * 1,  # user-item matrix из 0 и 1\n",
    "                sample_weight=coo_matrix(user_item_matrix),\n",
    "                user_features=csr_matrix(user_feat_lightfm.values).tocsr(),\n",
    "                item_features=csr_matrix(item_feat_lightfm.values).tocsr(),\n",
    "                epochs=15, \n",
    "                num_threads=4,\n",
    "                verbose=False) \n",
    "            \n",
    "            train_precision = precision_at_k(model, sparse_user_item, \n",
    "                                 user_features=csr_matrix(user_feat_lightfm.values).tocsr(),\n",
    "                                 item_features=csr_matrix(item_feat_lightfm.values).tocsr(),\n",
    "                                 k=5).mean()\n",
    "            \n",
    "            if train_precision > best_precision:\n",
    "                best_precision = train_precision\n",
    "                best_loss = loss\n",
    "                best_comp_num = no_components\n",
    "                best_learning_rate = learning_rate\n",
    "                \n",
    "print(f'Best precision - {best_precision}')                \n",
    "print(f'Best loss function - {best_loss}')                \n",
    "print(f'Best number of components - {best_comp_num}')                \n",
    "print(f'Best learning rate - {best_learning_rate}')"
   ]
  }
 ],
 "metadata": {
  "kernelspec": {
   "display_name": "Python 3",
   "language": "python",
   "name": "python3"
  },
  "language_info": {
   "codemirror_mode": {
    "name": "ipython",
    "version": 3
   },
   "file_extension": ".py",
   "mimetype": "text/x-python",
   "name": "python",
   "nbconvert_exporter": "python",
   "pygments_lexer": "ipython3",
   "version": "3.8.5"
  }
 },
 "nbformat": 4,
 "nbformat_minor": 4
}
